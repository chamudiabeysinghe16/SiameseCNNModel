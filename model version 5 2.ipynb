{
 "cells": [
  {
   "cell_type": "code",
   "execution_count": 6,
   "id": "eaf861b5-58b5-4054-8790-f8785557b3dc",
   "metadata": {},
   "outputs": [
    {
     "name": "stdout",
     "output_type": "stream",
     "text": [
      "Requirement already satisfied: librosa in /opt/anaconda3/lib/python3.11/site-packages (0.10.1)\n",
      "Requirement already satisfied: numpy in /opt/anaconda3/lib/python3.11/site-packages (1.26.4)\n",
      "Requirement already satisfied: audioread>=2.1.9 in /opt/anaconda3/lib/python3.11/site-packages (from librosa) (3.0.1)\n",
      "Requirement already satisfied: scipy>=1.2.0 in /opt/anaconda3/lib/python3.11/site-packages (from librosa) (1.11.4)\n",
      "Requirement already satisfied: scikit-learn>=0.20.0 in /opt/anaconda3/lib/python3.11/site-packages (from librosa) (1.2.2)\n",
      "Requirement already satisfied: joblib>=0.14 in /opt/anaconda3/lib/python3.11/site-packages (from librosa) (1.2.0)\n",
      "Requirement already satisfied: decorator>=4.3.0 in /opt/anaconda3/lib/python3.11/site-packages (from librosa) (5.1.1)\n",
      "Requirement already satisfied: numba>=0.51.0 in /opt/anaconda3/lib/python3.11/site-packages (from librosa) (0.59.0)\n",
      "Requirement already satisfied: soundfile>=0.12.1 in /opt/anaconda3/lib/python3.11/site-packages (from librosa) (0.12.1)\n",
      "Requirement already satisfied: pooch>=1.0 in /opt/anaconda3/lib/python3.11/site-packages (from librosa) (1.8.1)\n",
      "Requirement already satisfied: soxr>=0.3.2 in /opt/anaconda3/lib/python3.11/site-packages (from librosa) (0.3.7)\n",
      "Requirement already satisfied: typing-extensions>=4.1.1 in /opt/anaconda3/lib/python3.11/site-packages (from librosa) (4.9.0)\n",
      "Requirement already satisfied: lazy-loader>=0.1 in /opt/anaconda3/lib/python3.11/site-packages (from librosa) (0.3)\n",
      "Requirement already satisfied: msgpack>=1.0 in /opt/anaconda3/lib/python3.11/site-packages (from librosa) (1.0.3)\n",
      "Requirement already satisfied: llvmlite<0.43,>=0.42.0dev0 in /opt/anaconda3/lib/python3.11/site-packages (from numba>=0.51.0->librosa) (0.42.0)\n",
      "Requirement already satisfied: platformdirs>=2.5.0 in /opt/anaconda3/lib/python3.11/site-packages (from pooch>=1.0->librosa) (3.10.0)\n",
      "Requirement already satisfied: packaging>=20.0 in /opt/anaconda3/lib/python3.11/site-packages (from pooch>=1.0->librosa) (23.1)\n",
      "Requirement already satisfied: requests>=2.19.0 in /opt/anaconda3/lib/python3.11/site-packages (from pooch>=1.0->librosa) (2.31.0)\n",
      "Requirement already satisfied: threadpoolctl>=2.0.0 in /opt/anaconda3/lib/python3.11/site-packages (from scikit-learn>=0.20.0->librosa) (2.2.0)\n",
      "Requirement already satisfied: cffi>=1.0 in /opt/anaconda3/lib/python3.11/site-packages (from soundfile>=0.12.1->librosa) (1.16.0)\n",
      "Requirement already satisfied: pycparser in /opt/anaconda3/lib/python3.11/site-packages (from cffi>=1.0->soundfile>=0.12.1->librosa) (2.21)\n",
      "Requirement already satisfied: charset-normalizer<4,>=2 in /opt/anaconda3/lib/python3.11/site-packages (from requests>=2.19.0->pooch>=1.0->librosa) (2.0.4)\n",
      "Requirement already satisfied: idna<4,>=2.5 in /opt/anaconda3/lib/python3.11/site-packages (from requests>=2.19.0->pooch>=1.0->librosa) (3.4)\n",
      "Requirement already satisfied: urllib3<3,>=1.21.1 in /opt/anaconda3/lib/python3.11/site-packages (from requests>=2.19.0->pooch>=1.0->librosa) (2.0.7)\n",
      "Requirement already satisfied: certifi>=2017.4.17 in /opt/anaconda3/lib/python3.11/site-packages (from requests>=2.19.0->pooch>=1.0->librosa) (2024.2.2)\n",
      "Note: you may need to restart the kernel to use updated packages.\n"
     ]
    }
   ],
   "source": [
    "pip install librosa numpy"
   ]
  },
  {
   "cell_type": "code",
   "execution_count": 1,
   "id": "ce1083e9-f6f5-4262-9f13-ebdf3aeddfd2",
   "metadata": {},
   "outputs": [],
   "source": [
    "import numpy as np\n",
    "import librosa\n",
    "import os\n",
    "from itertools import combinations\n",
    "\n",
    "def generate_spectrogram(file_path, hop_length=512, n_fft=2048):\n",
    "    # Load the audio file\n",
    "    signal, sr = librosa.load(file_path)\n",
    "    # Generate a spectrogram\n",
    "    S = librosa.stft(signal, n_fft=n_fft, hop_length=hop_length)\n",
    "    S_db = librosa.amplitude_to_db(np.abs(S))\n",
    "    return S_db\n",
    "\n",
    "def generate_mfcc(file_path, n_mfcc=13, n_fft=2048, hop_length=512):\n",
    "    # Load the audio file\n",
    "    signal, sr = librosa.load(file_path)\n",
    "    # Generate MFCCs from a sound file\n",
    "    mfccs = librosa.feature.mfcc(signal, sr=sr, n_mfcc=n_mfcc, n_fft=n_fft, hop_length=hop_length)\n",
    "    return mfccs\n",
    "\n",
    "def create_pairs(audio_files_directory):\n",
    "    pairs = []\n",
    "    labels = []\n",
    "\n",
    "    # List all files in the directory\n",
    "    audio_files = [f for f in os.listdir(audio_files_directory) if os.path.isfile(os.path.join(audio_files_directory, f))]\n",
    "    \n",
    "    # Generate all possible combinations\n",
    "    for pair in combinations(audio_files, 2):\n",
    "        first_file_path = os.path.join(audio_files_directory, pair[0])\n",
    "        second_file_path = os.path.join(audio_files_directory, pair[1])\n",
    "        \n",
    "        # Assume the first part of the filename is the track ID (before the first underscore)\n",
    "        first_track_id = pair[0].split(\"_\")[0]\n",
    "        second_track_id = pair[1].split(\"_\")[0]\n",
    "        \n",
    "        # If they have the same ID, they are from the same track\n",
    "        label = int(first_track_id == second_track_id)\n",
    "        \n",
    "        pairs.append((first_file_path, second_file_path))\n",
    "        labels.append(label)\n",
    "    \n",
    "    return pairs, labels\n",
    "\n",
    "# Example usage:\n",
    "audio_files_directory = '/Users/chamudi/Desktop/songs'\n",
    "pairs, labels = create_pairs(audio_files_directory)\n",
    "\n",
    "# You can then loop through these pairs to convert them into spectrograms or MFCCs\n",
    "for pair, label in zip(pairs, labels):\n",
    "    first_audio_features = generate_mfcc(pair[0])  # or generate_spectrogram(pair[0])\n",
    "    second_audio_features = generate_mfcc(pair[1])  # or generate_spectrogram(pair[1])\n",
    "    \n",
    "    # Here, you would feed first_audio_features and second_audio_features into your Siamese network\n",
    "    # The `label` indicates whether the pair is from the same track (1) or different tracks (0)\n"
   ]
  },
  {
   "cell_type": "code",
   "execution_count": 2,
   "id": "8b18035f-a345-449d-b83e-0beb7acf6cc6",
   "metadata": {},
   "outputs": [
    {
     "data": {
      "text/html": [
       "<pre style=\"white-space:pre;overflow-x:auto;line-height:normal;font-family:Menlo,'DejaVu Sans Mono',consolas,'Courier New',monospace\"><span style=\"font-weight: bold\">Model: \"functional_3\"</span>\n",
       "</pre>\n"
      ],
      "text/plain": [
       "\u001b[1mModel: \"functional_3\"\u001b[0m\n"
      ]
     },
     "metadata": {},
     "output_type": "display_data"
    },
    {
     "data": {
      "text/html": [
       "<pre style=\"white-space:pre;overflow-x:auto;line-height:normal;font-family:Menlo,'DejaVu Sans Mono',consolas,'Courier New',monospace\">┏━━━━━━━━━━━━━━━━━━━━━┳━━━━━━━━━━━━━━━━━━━┳━━━━━━━━━━━━┳━━━━━━━━━━━━━━━━━━━┓\n",
       "┃<span style=\"font-weight: bold\"> Layer (type)        </span>┃<span style=\"font-weight: bold\"> Output Shape      </span>┃<span style=\"font-weight: bold\">    Param # </span>┃<span style=\"font-weight: bold\"> Connected to      </span>┃\n",
       "┡━━━━━━━━━━━━━━━━━━━━━╇━━━━━━━━━━━━━━━━━━━╇━━━━━━━━━━━━╇━━━━━━━━━━━━━━━━━━━┩\n",
       "│ input_layer         │ (<span style=\"color: #00d7ff; text-decoration-color: #00d7ff\">None</span>, <span style=\"color: #00af00; text-decoration-color: #00af00\">20</span>, <span style=\"color: #00af00; text-decoration-color: #00af00\">257</span>,   │          <span style=\"color: #00af00; text-decoration-color: #00af00\">0</span> │ -                 │\n",
       "│ (<span style=\"color: #0087ff; text-decoration-color: #0087ff\">InputLayer</span>)        │ <span style=\"color: #00af00; text-decoration-color: #00af00\">1</span>)                │            │                   │\n",
       "├─────────────────────┼───────────────────┼────────────┼───────────────────┤\n",
       "│ input_layer_1       │ (<span style=\"color: #00d7ff; text-decoration-color: #00d7ff\">None</span>, <span style=\"color: #00af00; text-decoration-color: #00af00\">20</span>, <span style=\"color: #00af00; text-decoration-color: #00af00\">257</span>,   │          <span style=\"color: #00af00; text-decoration-color: #00af00\">0</span> │ -                 │\n",
       "│ (<span style=\"color: #0087ff; text-decoration-color: #0087ff\">InputLayer</span>)        │ <span style=\"color: #00af00; text-decoration-color: #00af00\">1</span>)                │            │                   │\n",
       "├─────────────────────┼───────────────────┼────────────┼───────────────────┤\n",
       "│ functional_1        │ (<span style=\"color: #00d7ff; text-decoration-color: #00d7ff\">None</span>, <span style=\"color: #00af00; text-decoration-color: #00af00\">128</span>)       │  <span style=\"color: #00af00; text-decoration-color: #00af00\">1,542,656</span> │ input_layer[<span style=\"color: #00af00; text-decoration-color: #00af00\">0</span>][<span style=\"color: #00af00; text-decoration-color: #00af00\">0</span>… │\n",
       "│ (<span style=\"color: #0087ff; text-decoration-color: #0087ff\">Functional</span>)        │                   │            │ input_layer_1[<span style=\"color: #00af00; text-decoration-color: #00af00\">0</span>]… │\n",
       "├─────────────────────┼───────────────────┼────────────┼───────────────────┤\n",
       "│ lambda (<span style=\"color: #0087ff; text-decoration-color: #0087ff\">Lambda</span>)     │ (<span style=\"color: #00d7ff; text-decoration-color: #00d7ff\">None</span>, <span style=\"color: #00af00; text-decoration-color: #00af00\">1</span>)         │          <span style=\"color: #00af00; text-decoration-color: #00af00\">0</span> │ functional_1[<span style=\"color: #00af00; text-decoration-color: #00af00\">0</span>][<span style=\"color: #00af00; text-decoration-color: #00af00\">…</span> │\n",
       "│                     │                   │            │ functional_1[<span style=\"color: #00af00; text-decoration-color: #00af00\">1</span>][<span style=\"color: #00af00; text-decoration-color: #00af00\">…</span> │\n",
       "├─────────────────────┼───────────────────┼────────────┼───────────────────┤\n",
       "│ dense_1 (<span style=\"color: #0087ff; text-decoration-color: #0087ff\">Dense</span>)     │ (<span style=\"color: #00d7ff; text-decoration-color: #00d7ff\">None</span>, <span style=\"color: #00af00; text-decoration-color: #00af00\">1</span>)         │          <span style=\"color: #00af00; text-decoration-color: #00af00\">2</span> │ lambda[<span style=\"color: #00af00; text-decoration-color: #00af00\">0</span>][<span style=\"color: #00af00; text-decoration-color: #00af00\">0</span>]      │\n",
       "└─────────────────────┴───────────────────┴────────────┴───────────────────┘\n",
       "</pre>\n"
      ],
      "text/plain": [
       "┏━━━━━━━━━━━━━━━━━━━━━┳━━━━━━━━━━━━━━━━━━━┳━━━━━━━━━━━━┳━━━━━━━━━━━━━━━━━━━┓\n",
       "┃\u001b[1m \u001b[0m\u001b[1mLayer (type)       \u001b[0m\u001b[1m \u001b[0m┃\u001b[1m \u001b[0m\u001b[1mOutput Shape     \u001b[0m\u001b[1m \u001b[0m┃\u001b[1m \u001b[0m\u001b[1m   Param #\u001b[0m\u001b[1m \u001b[0m┃\u001b[1m \u001b[0m\u001b[1mConnected to     \u001b[0m\u001b[1m \u001b[0m┃\n",
       "┡━━━━━━━━━━━━━━━━━━━━━╇━━━━━━━━━━━━━━━━━━━╇━━━━━━━━━━━━╇━━━━━━━━━━━━━━━━━━━┩\n",
       "│ input_layer         │ (\u001b[38;5;45mNone\u001b[0m, \u001b[38;5;34m20\u001b[0m, \u001b[38;5;34m257\u001b[0m,   │          \u001b[38;5;34m0\u001b[0m │ -                 │\n",
       "│ (\u001b[38;5;33mInputLayer\u001b[0m)        │ \u001b[38;5;34m1\u001b[0m)                │            │                   │\n",
       "├─────────────────────┼───────────────────┼────────────┼───────────────────┤\n",
       "│ input_layer_1       │ (\u001b[38;5;45mNone\u001b[0m, \u001b[38;5;34m20\u001b[0m, \u001b[38;5;34m257\u001b[0m,   │          \u001b[38;5;34m0\u001b[0m │ -                 │\n",
       "│ (\u001b[38;5;33mInputLayer\u001b[0m)        │ \u001b[38;5;34m1\u001b[0m)                │            │                   │\n",
       "├─────────────────────┼───────────────────┼────────────┼───────────────────┤\n",
       "│ functional_1        │ (\u001b[38;5;45mNone\u001b[0m, \u001b[38;5;34m128\u001b[0m)       │  \u001b[38;5;34m1,542,656\u001b[0m │ input_layer[\u001b[38;5;34m0\u001b[0m][\u001b[38;5;34m0\u001b[0m… │\n",
       "│ (\u001b[38;5;33mFunctional\u001b[0m)        │                   │            │ input_layer_1[\u001b[38;5;34m0\u001b[0m]… │\n",
       "├─────────────────────┼───────────────────┼────────────┼───────────────────┤\n",
       "│ lambda (\u001b[38;5;33mLambda\u001b[0m)     │ (\u001b[38;5;45mNone\u001b[0m, \u001b[38;5;34m1\u001b[0m)         │          \u001b[38;5;34m0\u001b[0m │ functional_1[\u001b[38;5;34m0\u001b[0m][\u001b[38;5;34m…\u001b[0m │\n",
       "│                     │                   │            │ functional_1[\u001b[38;5;34m1\u001b[0m][\u001b[38;5;34m…\u001b[0m │\n",
       "├─────────────────────┼───────────────────┼────────────┼───────────────────┤\n",
       "│ dense_1 (\u001b[38;5;33mDense\u001b[0m)     │ (\u001b[38;5;45mNone\u001b[0m, \u001b[38;5;34m1\u001b[0m)         │          \u001b[38;5;34m2\u001b[0m │ lambda[\u001b[38;5;34m0\u001b[0m][\u001b[38;5;34m0\u001b[0m]      │\n",
       "└─────────────────────┴───────────────────┴────────────┴───────────────────┘\n"
      ]
     },
     "metadata": {},
     "output_type": "display_data"
    },
    {
     "data": {
      "text/html": [
       "<pre style=\"white-space:pre;overflow-x:auto;line-height:normal;font-family:Menlo,'DejaVu Sans Mono',consolas,'Courier New',monospace\"><span style=\"font-weight: bold\"> Total params: </span><span style=\"color: #00af00; text-decoration-color: #00af00\">1,542,658</span> (5.88 MB)\n",
       "</pre>\n"
      ],
      "text/plain": [
       "\u001b[1m Total params: \u001b[0m\u001b[38;5;34m1,542,658\u001b[0m (5.88 MB)\n"
      ]
     },
     "metadata": {},
     "output_type": "display_data"
    },
    {
     "data": {
      "text/html": [
       "<pre style=\"white-space:pre;overflow-x:auto;line-height:normal;font-family:Menlo,'DejaVu Sans Mono',consolas,'Courier New',monospace\"><span style=\"font-weight: bold\"> Trainable params: </span><span style=\"color: #00af00; text-decoration-color: #00af00\">1,542,658</span> (5.88 MB)\n",
       "</pre>\n"
      ],
      "text/plain": [
       "\u001b[1m Trainable params: \u001b[0m\u001b[38;5;34m1,542,658\u001b[0m (5.88 MB)\n"
      ]
     },
     "metadata": {},
     "output_type": "display_data"
    },
    {
     "data": {
      "text/html": [
       "<pre style=\"white-space:pre;overflow-x:auto;line-height:normal;font-family:Menlo,'DejaVu Sans Mono',consolas,'Courier New',monospace\"><span style=\"font-weight: bold\"> Non-trainable params: </span><span style=\"color: #00af00; text-decoration-color: #00af00\">0</span> (0.00 B)\n",
       "</pre>\n"
      ],
      "text/plain": [
       "\u001b[1m Non-trainable params: \u001b[0m\u001b[38;5;34m0\u001b[0m (0.00 B)\n"
      ]
     },
     "metadata": {},
     "output_type": "display_data"
    },
    {
     "name": "stdout",
     "output_type": "stream",
     "text": [
      "None\n"
     ]
    }
   ],
   "source": [
    "import tensorflow as tf\n",
    "from tensorflow.keras.models import Model\n",
    "from tensorflow.keras.layers import Input, Conv2D, MaxPooling2D, Flatten, Dense, Lambda\n",
    "from tensorflow.keras import backend as K\n",
    "\n",
    "def initialize_base_network(input_shape):\n",
    "    \"\"\"\n",
    "    Define the base network (which will be shared, acting as a feature extractor).\n",
    "    \"\"\"\n",
    "    input_layer = Input(shape=input_shape)\n",
    "    \n",
    "    # Example CNN architecture\n",
    "    x = Conv2D(32, (3, 3), activation='relu')(input_layer)\n",
    "    x = MaxPooling2D((2, 2))(x)\n",
    "    x = Conv2D(64, (3, 3), activation='relu')(x)\n",
    "    x = MaxPooling2D((2, 2))(x)\n",
    "    x = Flatten()(x)\n",
    "    x = Dense(128, activation='relu')(x)\n",
    "    \n",
    "    return Model(inputs=input_layer, outputs=x)\n",
    "\n",
    "def euclidean_distance(vectors):\n",
    "    \"\"\"\n",
    "    Compute the Euclidean distance between two vectors.\n",
    "    \"\"\"\n",
    "    vector1, vector2 = vectors\n",
    "    sum_square = K.sum(K.square(vector1 - vector2), axis=1, keepdims=True)\n",
    "    return K.sqrt(K.maximum(sum_square, K.epsilon()))\n",
    "\n",
    "def euclidean_distance_output_shape(shapes):\n",
    "    shape1, shape2 = shapes\n",
    "    return (shape1[0], 1)\n",
    "\n",
    "# Define the tensors for the two input images\n",
    "input_shape = (20, 257, 1)  # Example input shape (e.g., for MFCCs with 20 coefficients and 257 time steps)\n",
    "left_input = Input(shape=input_shape)\n",
    "right_input = Input(shape=input_shape)\n",
    "\n",
    "# Shared CNN base\n",
    "base_network = initialize_base_network(input_shape)\n",
    "\n",
    "# Because we re-use the same instance `base_network`,\n",
    "# the weights of the network will be shared across the two branches\n",
    "processed_left = base_network(left_input)\n",
    "processed_right = base_network(right_input)\n",
    "\n",
    "# Calculate the distance\n",
    "distance = Lambda(euclidean_distance, \n",
    "                  output_shape=euclidean_distance_output_shape)([processed_left, processed_right])\n",
    "\n",
    "# Add a dense layer with a sigmoid unit to generate the similarity score\n",
    "prediction = Dense(1, activation='sigmoid')(distance)\n",
    "\n",
    "# Define the model that takes as input the two images\n",
    "# and outputs the prediction of whether they are from the same track\n",
    "model = Model(inputs=[left_input, right_input], outputs=prediction)\n",
    "\n",
    "model.compile(loss='binary_crossentropy', optimizer='adam', metrics=['accuracy'])\n",
    "\n",
    "# Print the model summary to check your model\n",
    "print(model.summary())"
   ]
  },
  {
   "cell_type": "code",
   "execution_count": 5,
   "id": "55131b10-9fa0-4e30-91a7-fd46e56f7126",
   "metadata": {},
   "outputs": [],
   "source": [
    "# Hypothetical example to define variables\n",
    "# Let's assume your processed audio features are stored in 'features.npy' and labels in 'labels.npy'\n",
    "# These files should be the result of your preprocessing steps\n",
    "\n",
    "# For demonstration purposes, let's create some dummy data\n",
    "import numpy as np\n",
    "\n",
    "# Creating dummy data as an example\n",
    "num_samples = 1000  # Number of samples in your dataset\n",
    "input_shape = (20, 257, 1)  # Example shape of your preprocessed audio features\n",
    "\n",
    "# Randomly generate data\n",
    "X_dummy = np.random.rand(num_samples, *input_shape)\n",
    "Y_dummy = np.random.randint(2, size=num_samples)\n",
    "\n",
    "# Simulate splitting of data into pairs\n",
    "X_train_1 = X_dummy[:num_samples//2]\n",
    "X_train_2 = X_dummy[num_samples//2:]\n",
    "Y_train = Y_dummy[:num_samples//2]  # Assuming the first half matches the second half in some way for training\n",
    "\n",
    "# Import the required library for splitting the data\n",
    "from sklearn.model_selection import train_test_split\n",
    "\n",
    "# Splitting the dummy data\n",
    "X_train_1, X_val_1, X_train_2, X_val_2, Y_train, Y_val = train_test_split(X_train_1, X_train_2, Y_train, test_size=0.2, random_state=42)\n"
   ]
  },
  {
   "cell_type": "code",
   "execution_count": 8,
   "id": "3f07a125-df14-48a2-8e8e-b9586abd4aa5",
   "metadata": {},
   "outputs": [],
   "source": [
    "from tensorflow.keras.callbacks import ModelCheckpoint, EarlyStopping\n",
    "\n",
    "# Corrected ModelCheckpoint filepath extension\n",
    "checkpoint = ModelCheckpoint('siamese_model.keras', monitor='val_loss', save_best_only=True)\n",
    "early_stopping = EarlyStopping(monitor='val_loss', patience=10, verbose=1)\n"
   ]
  },
  {
   "cell_type": "code",
   "execution_count": 11,
   "id": "af9bd6b5-4314-4d3a-b047-4ec55c7decd3",
   "metadata": {},
   "outputs": [
    {
     "name": "stdout",
     "output_type": "stream",
     "text": [
      "Epoch 1/20\n",
      "\u001b[1m13/13\u001b[0m \u001b[32m━━━━━━━━━━━━━━━━━━━━\u001b[0m\u001b[37m\u001b[0m \u001b[1m1s\u001b[0m 42ms/step - accuracy: 0.4676 - loss: 0.2529 - val_accuracy: 0.5300 - val_loss: 0.2703\n",
      "Epoch 2/20\n",
      "\u001b[1m13/13\u001b[0m \u001b[32m━━━━━━━━━━━━━━━━━━━━\u001b[0m\u001b[37m\u001b[0m \u001b[1m0s\u001b[0m 36ms/step - accuracy: 0.4691 - loss: 0.2123 - val_accuracy: 0.5300 - val_loss: 0.2769\n",
      "Epoch 3/20\n",
      "\u001b[1m13/13\u001b[0m \u001b[32m━━━━━━━━━━━━━━━━━━━━\u001b[0m\u001b[37m\u001b[0m \u001b[1m0s\u001b[0m 36ms/step - accuracy: 0.4931 - loss: 0.1884 - val_accuracy: 0.5300 - val_loss: 0.2847\n",
      "Epoch 4/20\n",
      "\u001b[1m13/13\u001b[0m \u001b[32m━━━━━━━━━━━━━━━━━━━━\u001b[0m\u001b[37m\u001b[0m \u001b[1m0s\u001b[0m 37ms/step - accuracy: 0.4938 - loss: 0.1680 - val_accuracy: 0.5300 - val_loss: 0.2963\n",
      "Epoch 5/20\n",
      "\u001b[1m13/13\u001b[0m \u001b[32m━━━━━━━━━━━━━━━━━━━━\u001b[0m\u001b[37m\u001b[0m \u001b[1m0s\u001b[0m 35ms/step - accuracy: 0.4885 - loss: 0.1636 - val_accuracy: 0.5300 - val_loss: 0.2985\n",
      "Epoch 6/20\n",
      "\u001b[1m13/13\u001b[0m \u001b[32m━━━━━━━━━━━━━━━━━━━━\u001b[0m\u001b[37m\u001b[0m \u001b[1m0s\u001b[0m 35ms/step - accuracy: 0.4292 - loss: 0.1485 - val_accuracy: 0.5300 - val_loss: 0.3009\n",
      "Epoch 7/20\n",
      "\u001b[1m13/13\u001b[0m \u001b[32m━━━━━━━━━━━━━━━━━━━━\u001b[0m\u001b[37m\u001b[0m \u001b[1m0s\u001b[0m 35ms/step - accuracy: 0.4012 - loss: 0.1400 - val_accuracy: 0.5300 - val_loss: 0.2955\n",
      "Epoch 8/20\n",
      "\u001b[1m13/13\u001b[0m \u001b[32m━━━━━━━━━━━━━━━━━━━━\u001b[0m\u001b[37m\u001b[0m \u001b[1m0s\u001b[0m 36ms/step - accuracy: 0.4147 - loss: 0.1481 - val_accuracy: 0.5300 - val_loss: 0.2950\n",
      "Epoch 9/20\n",
      "\u001b[1m13/13\u001b[0m \u001b[32m━━━━━━━━━━━━━━━━━━━━\u001b[0m\u001b[37m\u001b[0m \u001b[1m0s\u001b[0m 37ms/step - accuracy: 0.3940 - loss: 0.1368 - val_accuracy: 0.5300 - val_loss: 0.2901\n",
      "Epoch 10/20\n",
      "\u001b[1m13/13\u001b[0m \u001b[32m━━━━━━━━━━━━━━━━━━━━\u001b[0m\u001b[37m\u001b[0m \u001b[1m0s\u001b[0m 37ms/step - accuracy: 0.3570 - loss: 0.1350 - val_accuracy: 0.5300 - val_loss: 0.2921\n",
      "Epoch 11/20\n",
      "\u001b[1m13/13\u001b[0m \u001b[32m━━━━━━━━━━━━━━━━━━━━\u001b[0m\u001b[37m\u001b[0m \u001b[1m0s\u001b[0m 35ms/step - accuracy: 0.3764 - loss: 0.1469 - val_accuracy: 0.5300 - val_loss: 0.2895\n",
      "Epoch 11: early stopping\n"
     ]
    },
    {
     "data": {
      "image/png": "[encoded data removed]",
      "text/plain": [
       "<Figure size 1000x400 with 2 Axes>"
      ]
     },
     "metadata": {},
     "output_type": "display_data"
    }
   ],
   "source": [
    "import numpy as np\n",
    "from tensorflow.keras.callbacks import ModelCheckpoint, EarlyStopping\n",
    "from tensorflow.keras.models import Model\n",
    "from sklearn.model_selection import train_test_split\n",
    "\n",
    "# Assuming num_samples represents the total number of samples BEFORE creating pairs\n",
    "num_samples = 1000  # Total number of samples\n",
    "input_shape = (20, 257, 1)  # Example shape of your preprocessed audio features\n",
    "\n",
    "# Generate dummy feature data\n",
    "X_dummy = np.random.rand(num_samples, *input_shape)\n",
    "\n",
    "# Generate dummy labels\n",
    "# Assuming half of the pairs are from the same class (1) and half are not (0)\n",
    "Y_dummy = np.random.randint(2, size=(num_samples // 2, 1))\n",
    "\n",
    "# Split the dummy feature data into two halves to simulate pairs\n",
    "X_train_1 = X_dummy[:num_samples // 2]\n",
    "X_train_2 = X_dummy[num_samples // 2:]\n",
    "\n",
    "# Correctly split the dataset into training and validation sets\n",
    "X_train_1, X_val_1, X_train_2, X_val_2, Y_train, Y_val = train_test_split(\n",
    "    X_train_1, X_train_2, Y_dummy, test_size=0.2, random_state=42)\n",
    "\n",
    "# Train the model\n",
    "history = model.fit([X_train_1, X_train_2], Y_train,\n",
    "                    validation_data=([X_val_1, X_val_2], Y_val),\n",
    "                    epochs=20,  # Adjust based on your model and data\n",
    "                    batch_size=32,\n",
    "                    callbacks=[checkpoint, early_stopping])\n",
    "\n",
    "# To visualize the training process, you can plot the training and validation loss and accuracy\n",
    "import matplotlib.pyplot as plt\n",
    "\n",
    "plt.figure(figsize=(10, 4))\n",
    "plt.subplot(1, 2, 1)\n",
    "plt.plot(history.history['loss'], label='Train Loss')\n",
    "plt.plot(history.history['val_loss'], label='Validation Loss')\n",
    "plt.title('Loss Over Epochs')\n",
    "plt.legend()\n",
    "\n",
    "plt.subplot(1, 2, 2)\n",
    "plt.plot(history.history['accuracy'], label='Train Accuracy')\n",
    "plt.plot(history.history['val_accuracy'], label='Validation Accuracy')\n",
    "plt.title('Accuracy Over Epochs')\n",
    "plt.legend()\n",
    "\n",
    "plt.show()"
   ]
  },
  {
   "cell_type": "code",
   "execution_count": 18,
   "id": "4af75ac8-96c9-4253-a65f-3afda4b3cfb7",
   "metadata": {},
   "outputs": [],
   "source": [
    "def identify_track(unknown_feature, known_features_db):\n",
    "    \"\"\"\n",
    "    Identify an unknown music track by comparing its feature against a database of known track features.\n",
    "    \n",
    "    Parameters:\n",
    "    - unknown_feature: The feature vector of the unknown music snippet.\n",
    "    - known_features_db: A list or array of feature vectors for known tracks.\n",
    "    \n",
    "    Returns:\n",
    "    - identified_index: The index of the identified track in the known_features_db.\n",
    "    \"\"\"\n",
    "    min_distance = float('inf')\n",
    "    identified_index = -1\n",
    "\n",
    "    for i, known_feature in enumerate(known_features_db):\n",
    "        # Model prediction; adjust depending on whether your model returns similarity or distance\n",
    "        # Here, we assume a lower score means closer match\n",
    "        distance = model.predict([unknown_feature, known_feature])\n",
    "\n",
    "        if distance < min_distance:\n",
    "            min_distance = distance\n",
    "            identified_index = i\n",
    "\n",
    "    return identified_index\n",
    "\n",
    "# Load the feature of an unknown music snippet\n",
    "# unknown_feature = load_and_preprocess('path/to/unknown/snippet')\n",
    "\n",
    "# Load your database of known track features\n",
    "# known_features_db = load_your_known_features_database()\n",
    "\n",
    "# Perform identification\n",
    "# identified_index = identify_track(unknown_feature, known_features_db)\n",
    "# print(f\"Identified Track Index: {identified_index}\")\n"
   ]
  },
  {
   "cell_type": "code",
   "execution_count": 30,
   "id": "f658fffa-995c-48e6-9db4-7642d76dcbfd",
   "metadata": {},
   "outputs": [],
   "source": [
    "import librosa\n",
    "import numpy as np\n",
    "\n",
    "def load_and_preprocess(audio_path, n_mfcc=13, n_fft=2048, hop_length=512, duration=5, sr=22050):\n",
    "    \"\"\"Load an audio file, extract MFCCs, and pad/truncate to a fixed size.\"\"\"\n",
    "    signal, _ = librosa.load(audio_path, sr=sr, duration=duration)\n",
    "    mfccs = librosa.feature.mfcc(y=signal, sr=sr, n_mfcc=n_mfcc, n_fft=n_fft, hop_length=hop_length)\n",
    "\n",
    "    \n",
    "    # Padding or truncating the MFCC sequence to a fixed size\n",
    "    # Assuming 'max_length' is the maximum length of sequences your model was trained on\n",
    "    max_length = 216  # Example fixed length\n",
    "    if mfccs.shape[1] > max_length:\n",
    "        mfccs = mfccs[:, :max_length]\n",
    "    else:\n",
    "        padding = max_length - mfccs.shape[1]\n",
    "        mfccs = np.pad(mfccs, ((0, 0), (0, padding)), 'constant', constant_values=(0, 0))\n",
    "    \n",
    "    # Reshape for the model (assuming your model expects a 4D tensor)\n",
    "    mfccs = mfccs.reshape(1, mfccs.shape[0], mfccs.shape[1], 1)\n",
    "    \n",
    "    return mfccs\n",
    "\n",
    "# Example usage\n",
    "unknown_feature = load_and_preprocess('/Users/chamudi/Desktop/songs/unknown_data/11.mp3')\n"
   ]
  },
  {
   "cell_type": "code",
   "execution_count": 31,
   "id": "9d53d7e1-24df-4ac0-88cf-f93172024a47",
   "metadata": {},
   "outputs": [
    {
     "name": "stdout",
     "output_type": "stream",
     "text": [
      "Requirement already satisfied: librosa in /opt/anaconda3/lib/python3.11/site-packages (0.10.1)\n",
      "Requirement already satisfied: audioread>=2.1.9 in /opt/anaconda3/lib/python3.11/site-packages (from librosa) (3.0.1)\n",
      "Requirement already satisfied: numpy!=1.22.0,!=1.22.1,!=1.22.2,>=1.20.3 in /opt/anaconda3/lib/python3.11/site-packages (from librosa) (1.26.4)\n",
      "Requirement already satisfied: scipy>=1.2.0 in /opt/anaconda3/lib/python3.11/site-packages (from librosa) (1.11.4)\n",
      "Requirement already satisfied: scikit-learn>=0.20.0 in /opt/anaconda3/lib/python3.11/site-packages (from librosa) (1.2.2)\n",
      "Requirement already satisfied: joblib>=0.14 in /opt/anaconda3/lib/python3.11/site-packages (from librosa) (1.2.0)\n",
      "Requirement already satisfied: decorator>=4.3.0 in /opt/anaconda3/lib/python3.11/site-packages (from librosa) (5.1.1)\n",
      "Requirement already satisfied: numba>=0.51.0 in /opt/anaconda3/lib/python3.11/site-packages (from librosa) (0.59.0)\n",
      "Requirement already satisfied: soundfile>=0.12.1 in /opt/anaconda3/lib/python3.11/site-packages (from librosa) (0.12.1)\n",
      "Requirement already satisfied: pooch>=1.0 in /opt/anaconda3/lib/python3.11/site-packages (from librosa) (1.8.1)\n",
      "Requirement already satisfied: soxr>=0.3.2 in /opt/anaconda3/lib/python3.11/site-packages (from librosa) (0.3.7)\n",
      "Requirement already satisfied: typing-extensions>=4.1.1 in /opt/anaconda3/lib/python3.11/site-packages (from librosa) (4.9.0)\n",
      "Requirement already satisfied: lazy-loader>=0.1 in /opt/anaconda3/lib/python3.11/site-packages (from librosa) (0.3)\n",
      "Requirement already satisfied: msgpack>=1.0 in /opt/anaconda3/lib/python3.11/site-packages (from librosa) (1.0.3)\n",
      "Requirement already satisfied: llvmlite<0.43,>=0.42.0dev0 in /opt/anaconda3/lib/python3.11/site-packages (from numba>=0.51.0->librosa) (0.42.0)\n",
      "Requirement already satisfied: platformdirs>=2.5.0 in /opt/anaconda3/lib/python3.11/site-packages (from pooch>=1.0->librosa) (3.10.0)\n",
      "Requirement already satisfied: packaging>=20.0 in /opt/anaconda3/lib/python3.11/site-packages (from pooch>=1.0->librosa) (23.1)\n",
      "Requirement already satisfied: requests>=2.19.0 in /opt/anaconda3/lib/python3.11/site-packages (from pooch>=1.0->librosa) (2.31.0)\n",
      "Requirement already satisfied: threadpoolctl>=2.0.0 in /opt/anaconda3/lib/python3.11/site-packages (from scikit-learn>=0.20.0->librosa) (2.2.0)\n",
      "Requirement already satisfied: cffi>=1.0 in /opt/anaconda3/lib/python3.11/site-packages (from soundfile>=0.12.1->librosa) (1.16.0)\n",
      "Requirement already satisfied: pycparser in /opt/anaconda3/lib/python3.11/site-packages (from cffi>=1.0->soundfile>=0.12.1->librosa) (2.21)\n",
      "Requirement already satisfied: charset-normalizer<4,>=2 in /opt/anaconda3/lib/python3.11/site-packages (from requests>=2.19.0->pooch>=1.0->librosa) (2.0.4)\n",
      "Requirement already satisfied: idna<4,>=2.5 in /opt/anaconda3/lib/python3.11/site-packages (from requests>=2.19.0->pooch>=1.0->librosa) (3.4)\n",
      "Requirement already satisfied: urllib3<3,>=1.21.1 in /opt/anaconda3/lib/python3.11/site-packages (from requests>=2.19.0->pooch>=1.0->librosa) (2.0.7)\n",
      "Requirement already satisfied: certifi>=2017.4.17 in /opt/anaconda3/lib/python3.11/site-packages (from requests>=2.19.0->pooch>=1.0->librosa) (2024.2.2)\n",
      "Note: you may need to restart the kernel to use updated packages.\n"
     ]
    }
   ],
   "source": [
    "pip install --upgrade librosa"
   ]
  },
  {
   "cell_type": "code",
   "execution_count": 32,
   "id": "187e37c4-4805-4806-ad63-d48e820ba1f7",
   "metadata": {},
   "outputs": [
    {
     "ename": "TypeError",
     "evalue": "mfcc() takes 0 positional arguments but 1 positional argument (and 2 keyword-only arguments) were given",
     "output_type": "error",
     "traceback": [
      "\u001b[0;31m---------------------------------------------------------------------------\u001b[0m",
      "\u001b[0;31mTypeError\u001b[0m                                 Traceback (most recent call last)",
      "Cell \u001b[0;32mIn[32], line 16\u001b[0m\n\u001b[1;32m     13\u001b[0m X_test_2 \u001b[38;5;241m=\u001b[39m []\n\u001b[1;32m     15\u001b[0m \u001b[38;5;28;01mfor\u001b[39;00m pair \u001b[38;5;129;01min\u001b[39;00m test_pairs:\n\u001b[0;32m---> 16\u001b[0m     first_audio_features \u001b[38;5;241m=\u001b[39m generate_mfcc(pair[\u001b[38;5;241m0\u001b[39m])  \u001b[38;5;66;03m# Or your chosen feature extraction method\u001b[39;00m\n\u001b[1;32m     17\u001b[0m     second_audio_features \u001b[38;5;241m=\u001b[39m generate_mfcc(pair[\u001b[38;5;241m1\u001b[39m])\n\u001b[1;32m     19\u001b[0m     X_test_1\u001b[38;5;241m.\u001b[39mappend(first_audio_features)\n",
      "Cell \u001b[0;32mIn[1], line 18\u001b[0m, in \u001b[0;36mgenerate_mfcc\u001b[0;34m(file_path, n_mfcc, n_fft, hop_length)\u001b[0m\n\u001b[1;32m     16\u001b[0m signal, sr \u001b[38;5;241m=\u001b[39m librosa\u001b[38;5;241m.\u001b[39mload(file_path)\n\u001b[1;32m     17\u001b[0m \u001b[38;5;66;03m# Generate MFCCs from a sound file\u001b[39;00m\n\u001b[0;32m---> 18\u001b[0m mfccs \u001b[38;5;241m=\u001b[39m librosa\u001b[38;5;241m.\u001b[39mfeature\u001b[38;5;241m.\u001b[39mmfcc(signal, sr\u001b[38;5;241m=\u001b[39msr, n_mfcc\u001b[38;5;241m=\u001b[39mn_mfcc, n_fft\u001b[38;5;241m=\u001b[39mn_fft, hop_length\u001b[38;5;241m=\u001b[39mhop_length)\n\u001b[1;32m     19\u001b[0m \u001b[38;5;28;01mreturn\u001b[39;00m mfccs\n",
      "\u001b[0;31mTypeError\u001b[0m: mfcc() takes 0 positional arguments but 1 positional argument (and 2 keyword-only arguments) were given"
     ]
    }
   ],
   "source": [
    "# High-level pseudo-code; adjust based on your actual data and paths\n",
    "\n",
    "# Assuming test_audio_files_directory is a directory with your test audio files organized in a way\n",
    "# that you can create pairs for testing\n",
    "test_audio_files_directory = '/Users/chamudi/Desktop/songs/test_data'\n",
    "\n",
    "# Assuming a function similar to create_pairs to generate test pairs and their labels\n",
    "# This function should be adjusted to work with your test data\n",
    "test_pairs, test_labels = create_pairs(test_audio_files_directory)\n",
    "\n",
    "# Now, process these pairs to generate X_test_1 and X_test_2\n",
    "X_test_1 = []\n",
    "X_test_2 = []\n",
    "\n",
    "for pair in test_pairs:\n",
    "    first_audio_features = generate_mfcc(pair[0])  # Or your chosen feature extraction method\n",
    "    second_audio_features = generate_mfcc(pair[1])\n",
    "    \n",
    "    X_test_1.append(first_audio_features)\n",
    "    X_test_2.append(second_audio_features)\n",
    "\n",
    "X_test_1 = np.array(X_test_1)\n",
    "X_test_2 = np.array(X_test_2)\n",
    "Y_test = np.array(test_labels)\n",
    "\n",
    "# Now, X_test_1, X_test_2, and Y_test are prepared and can be used for evaluation as shown earlier.\n"
   ]
  },
  {
   "cell_type": "code",
   "execution_count": null,
   "id": "ffc97d7b-2e3e-4d0d-a000-fc7b21e144f5",
   "metadata": {},
   "outputs": [],
   "source": []
  }
 ],
 "metadata": {
  "kernelspec": {
   "display_name": "Python 3 (ipykernel)",
   "language": "python",
   "name": "python3"
  },
  "language_info": {
   "codemirror_mode": {
    "name": "ipython",
    "version": 3
   },
   "file_extension": ".py",
   "mimetype": "text/x-python",
   "name": "python",
   "nbconvert_exporter": "python",
   "pygments_lexer": "ipython3",
   "version": "3.11.7"
  }
 },
 "nbformat": 4,
 "nbformat_minor": 5
}
